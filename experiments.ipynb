{
 "cells": [
  {
   "cell_type": "code",
   "execution_count": 1,
   "id": "ff0d5ab9",
   "metadata": {},
   "outputs": [],
   "source": [
    "import os\n",
    "import yaml\n",
    "import torch\n",
    "import numpy as np\n",
    "import pandas as pd\n",
    "import matplotlib.pyplot as plt\n",
    "import models.models"
   ]
  },
  {
   "cell_type": "code",
   "execution_count": 2,
   "id": "6df6042d",
   "metadata": {},
   "outputs": [],
   "source": [
    "path = os.path.join(os.getcwd(), 'configurations.yaml')"
   ]
  },
  {
   "cell_type": "code",
   "execution_count": null,
   "id": "be9eeb18",
   "metadata": {},
   "outputs": [],
   "source": []
  },
  {
   "cell_type": "code",
   "execution_count": 3,
   "id": "4669199c",
   "metadata": {},
   "outputs": [],
   "source": [
    "# Load the YAML file\n",
    "with open(path, 'r') as f:\n",
    "    config = yaml.safe_load(f)"
   ]
  },
  {
   "cell_type": "code",
   "execution_count": 4,
   "id": "dd65bcb5",
   "metadata": {},
   "outputs": [],
   "source": [
    "layers_config = config['CnnModel']['layers']"
   ]
  },
  {
   "cell_type": "code",
   "execution_count": 5,
   "id": "1bff693f",
   "metadata": {},
   "outputs": [],
   "source": [
    "model = getattr(models.models, config['CnnModel']['name'])(config['CnnModel'])"
   ]
  },
  {
   "cell_type": "code",
   "execution_count": 6,
   "id": "726f529c",
   "metadata": {},
   "outputs": [],
   "source": [
    "layer = torch.nn.Conv2d(1, 2, 3)"
   ]
  },
  {
   "cell_type": "code",
   "execution_count": 7,
   "id": "8be7915b",
   "metadata": {},
   "outputs": [
    {
     "name": "stdout",
     "output_type": "stream",
     "text": [
      "Conv2d(1, 2, kernel_size=(3, 3), stride=(1, 1))\n"
     ]
    }
   ],
   "source": [
    "print(layer)"
   ]
  },
  {
   "cell_type": "code",
   "execution_count": 8,
   "id": "255c275b",
   "metadata": {},
   "outputs": [
    {
     "data": {
      "text/plain": [
       "SketchRecognitionCNN(\n",
       "  (model): Sequential(\n",
       "    (0): Conv2d(1, 2, kernel_size=(3, 3), stride=(1, 1))\n",
       "    (1): BatchNorm2d(2, eps=1e-05, momentum=0.1, affine=True, track_running_stats=True)\n",
       "    (2): LeakyReLU(negative_slope=0.1)\n",
       "    (3): Conv2d(2, 4, kernel_size=(3, 3), stride=(1, 1))\n",
       "    (4): BatchNorm2d(4, eps=1e-05, momentum=0.1, affine=True, track_running_stats=True)\n",
       "    (5): LeakyReLU(negative_slope=0.1)\n",
       "    (6): Dropout2d(p=0.1, inplace=False)\n",
       "    (7): Conv2d(4, 8, kernel_size=(3, 3), stride=(1, 1))\n",
       "    (8): BatchNorm2d(8, eps=1e-05, momentum=0.1, affine=True, track_running_stats=True)\n",
       "    (9): MaxPool2d(kernel_size=2, stride=2, padding=0, dilation=1, ceil_mode=False)\n",
       "    (10): LeakyReLU(negative_slope=0.1)\n",
       "    (11): Dropout2d(p=0.1, inplace=False)\n",
       "    (12): Conv2d(8, 16, kernel_size=(3, 3), stride=(1, 1))\n",
       "    (13): BatchNorm2d(16, eps=1e-05, momentum=0.1, affine=True, track_running_stats=True)\n",
       "    (14): LeakyReLU(negative_slope=0.1)\n",
       "    (15): Dropout2d(p=0.1, inplace=False)\n",
       "    (16): Conv2d(16, 75, kernel_size=(3, 3), stride=(1, 1))\n",
       "    (17): BatchNorm2d(75, eps=1e-05, momentum=0.1, affine=True, track_running_stats=True)\n",
       "    (18): MaxPool2d(kernel_size=2, stride=2, padding=0, dilation=1, ceil_mode=False)\n",
       "    (19): LeakyReLU(negative_slope=0.1)\n",
       "    (20): Dropout2d(p=0.1, inplace=False)\n",
       "    (21): AdaptiveAvgPool2d(output_size=1)\n",
       "    (22): Flatten(start_dim=1, end_dim=-1)\n",
       "  )\n",
       ")"
      ]
     },
     "execution_count": 8,
     "metadata": {},
     "output_type": "execute_result"
    }
   ],
   "source": [
    "model"
   ]
  },
  {
   "cell_type": "code",
   "execution_count": 10,
   "id": "8cfab721",
   "metadata": {},
   "outputs": [
    {
     "data": {
      "text/plain": [
       "torch.Size([3, 75])"
      ]
     },
     "execution_count": 10,
     "metadata": {},
     "output_type": "execute_result"
    }
   ],
   "source": [
    "model(torch.randn(3, 1, 28, 28)).shape"
   ]
  },
  {
   "cell_type": "code",
   "execution_count": 42,
   "id": "fd6b7c8e",
   "metadata": {},
   "outputs": [],
   "source": [
    "path = os.path.join(os.getcwd(), 'Dataset')\n",
    "files = os.listdir(path)"
   ]
  },
  {
   "cell_type": "code",
   "execution_count": 57,
   "id": "4261d2e3",
   "metadata": {},
   "outputs": [
    {
     "name": "stdout",
     "output_type": "stream",
     "text": [
      "airplane ['airplane']\n"
     ]
    },
    {
     "name": "stderr",
     "output_type": "stream",
     "text": [
      "IOPub data rate exceeded.\n",
      "The notebook server will temporarily stop sending output\n",
      "to the client in order to avoid crashing it.\n",
      "To change this limit, set the config variable\n",
      "`--NotebookApp.iopub_data_rate_limit`.\n",
      "\n",
      "Current values:\n",
      "NotebookApp.iopub_data_rate_limit=1000000.0 (bytes/sec)\n",
      "NotebookApp.rate_limit_window=3.0 (secs)\n",
      "\n"
     ]
    },
    {
     "ename": "AttributeError",
     "evalue": "'list' object has no attribute 'extends'",
     "output_type": "error",
     "traceback": [
      "\u001b[1;31m---------------------------------------------------------------------------\u001b[0m",
      "\u001b[1;31mAttributeError\u001b[0m                            Traceback (most recent call last)",
      "Input \u001b[1;32mIn [57]\u001b[0m, in \u001b[0;36m<cell line: 4>\u001b[1;34m()\u001b[0m\n\u001b[0;32m     12\u001b[0m \u001b[38;5;28mprint\u001b[39m(imgs)\n\u001b[0;32m     14\u001b[0m target_samples \u001b[38;5;241m=\u001b[39m [target] \u001b[38;5;241m*\u001b[39m img_samples\u001b[38;5;241m.\u001b[39mshape[\u001b[38;5;241m0\u001b[39m]\n\u001b[1;32m---> 15\u001b[0m \u001b[43mtargets\u001b[49m\u001b[38;5;241;43m.\u001b[39;49m\u001b[43mextends\u001b[49m(target_samples)\n\u001b[0;32m     17\u001b[0m \u001b[38;5;28mprint\u001b[39m(targets)\n\u001b[0;32m     19\u001b[0m \u001b[38;5;28;01mbreak\u001b[39;00m\n",
      "\u001b[1;31mAttributeError\u001b[0m: 'list' object has no attribute 'extends'"
     ]
    }
   ],
   "source": [
    "import re\n",
    "imgs, targets, labels= [], [], []\n",
    "\n",
    "for target, file in enumerate(os.listdir(path)):\n",
    "    class_name = re.split(\"[_.]\", file)[-2]\n",
    "    labels.append(class_name)\n",
    "    print(class_name, labels)\n",
    "    file = os.path.join(path, file)\n",
    "    img_samples = np.load(file)\n",
    "\n",
    "    imgs.extend(img_samples)\n",
    "    print(imgs)\n",
    "\n",
    "    target_samples = [target] * img_samples.shape[0]\n",
    "    targets.extend(target_samples)\n",
    "\n",
    "    print(targets)\n",
    "\n",
    "    break"
   ]
  },
  {
   "cell_type": "code",
   "execution_count": null,
   "id": "6eb9d0ad",
   "metadata": {},
   "outputs": [],
   "source": [
    "import glob\n",
    "import os\n",
    "import re\n",
    "import numpy as np\n",
    "from multiprocessing import Pool\n",
    "\n",
    "\n",
    "def _load_file( file):\n",
    "    class_name = re.split(\"[_.]\", file)[-2]\n",
    "    img_samples = np.load(file)\n",
    "    target_samples = np.full((img_samples.shape[0],), self.class_to_idx[class_name])\n",
    "    return img_samples, target_samples, class_name\n",
    "\n",
    "file_list = glob.glob(os.path.join(path, '*.npy'))\n",
    "with Pool() as p:\n",
    "    results = p.map(_load_file, file_list)\n",
    "    print(type(results))\n",
    "# imgs, targets, labels = zip(*results)\n",
    "# imgs = np.concatenate(imgs, axis=0)\n",
    "# targets = np.concatenate(targets, axis=0)\n",
    "# labels = np.array(labels)\n"
   ]
  },
  {
   "cell_type": "code",
   "execution_count": null,
   "id": "3d8f2560",
   "metadata": {},
   "outputs": [],
   "source": []
  }
 ],
 "metadata": {
  "kernelspec": {
   "display_name": "Python 3 (ipykernel)",
   "language": "python",
   "name": "python3"
  },
  "language_info": {
   "codemirror_mode": {
    "name": "ipython",
    "version": 3
   },
   "file_extension": ".py",
   "mimetype": "text/x-python",
   "name": "python",
   "nbconvert_exporter": "python",
   "pygments_lexer": "ipython3",
   "version": "3.9.12"
  }
 },
 "nbformat": 4,
 "nbformat_minor": 5
}
