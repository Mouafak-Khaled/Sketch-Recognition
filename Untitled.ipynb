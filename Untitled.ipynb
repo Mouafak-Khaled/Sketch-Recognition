{
 "cells": [
  {
   "cell_type": "code",
   "execution_count": 1,
   "id": "ff0d5ab9",
   "metadata": {},
   "outputs": [],
   "source": [
    "import os\n",
    "import yaml\n",
    "import torch\n",
    "import numpy as np\n",
    "import pandas as pd\n",
    "import matplotlib.pyplot as plt\n",
    "import models.models"
   ]
  },
  {
   "cell_type": "code",
   "execution_count": 2,
   "id": "6df6042d",
   "metadata": {},
   "outputs": [],
   "source": [
    "path = os.path.join(os.getcwd(), 'configurations.yaml')"
   ]
  },
  {
   "cell_type": "code",
   "execution_count": null,
   "id": "be9eeb18",
   "metadata": {},
   "outputs": [],
   "source": []
  },
  {
   "cell_type": "code",
   "execution_count": 3,
   "id": "4669199c",
   "metadata": {},
   "outputs": [],
   "source": [
    "# Load the YAML file\n",
    "with open(path, 'r') as f:\n",
    "    config = yaml.safe_load(f)"
   ]
  },
  {
   "cell_type": "code",
   "execution_count": 4,
   "id": "dd65bcb5",
   "metadata": {},
   "outputs": [],
   "source": [
    "layers_config = config['CnnModel']['layers']"
   ]
  },
  {
   "cell_type": "code",
   "execution_count": 5,
   "id": "bae763d7",
   "metadata": {},
   "outputs": [],
   "source": [
    "model = getattr(models.models, config['CnnModel']['name'])(config['CnnModel'])"
   ]
  },
  {
   "cell_type": "code",
   "execution_count": 6,
   "id": "225dff43",
   "metadata": {},
   "outputs": [],
   "source": [
    "layer = torch.nn.Conv2d(1, 2, 3)"
   ]
  },
  {
   "cell_type": "code",
   "execution_count": 7,
   "id": "a61ff592",
   "metadata": {},
   "outputs": [
    {
     "name": "stdout",
     "output_type": "stream",
     "text": [
      "Conv2d(1, 2, kernel_size=(3, 3), stride=(1, 1))\n"
     ]
    }
   ],
   "source": [
    "print(layer)"
   ]
  },
  {
   "cell_type": "code",
   "execution_count": 8,
   "id": "2b8a49a3",
   "metadata": {},
   "outputs": [
    {
     "data": {
      "text/plain": [
       "SketchRecognitionCNN(\n",
       "  (model): Sequential(\n",
       "    (0): Conv2d(1, 2, kernel_size=(3, 3), stride=(1, 1))\n",
       "    (1): BatchNorm2d(2, eps=1e-05, momentum=0.1, affine=True, track_running_stats=True)\n",
       "    (2): LeakyReLU(negative_slope=0.1)\n",
       "    (3): Conv2d(2, 4, kernel_size=(3, 3), stride=(1, 1))\n",
       "    (4): BatchNorm2d(4, eps=1e-05, momentum=0.1, affine=True, track_running_stats=True)\n",
       "    (5): LeakyReLU(negative_slope=0.1)\n",
       "    (6): Dropout2d(p=0.1, inplace=False)\n",
       "    (7): Conv2d(4, 8, kernel_size=(3, 3), stride=(1, 1))\n",
       "    (8): BatchNorm2d(8, eps=1e-05, momentum=0.1, affine=True, track_running_stats=True)\n",
       "    (9): MaxPool2d(kernel_size=2, stride=2, padding=0, dilation=1, ceil_mode=False)\n",
       "    (10): LeakyReLU(negative_slope=0.1)\n",
       "    (11): Dropout2d(p=0.1, inplace=False)\n",
       "    (12): Conv2d(8, 16, kernel_size=(3, 3), stride=(1, 1))\n",
       "    (13): BatchNorm2d(16, eps=1e-05, momentum=0.1, affine=True, track_running_stats=True)\n",
       "    (14): LeakyReLU(negative_slope=0.1)\n",
       "    (15): Dropout2d(p=0.1, inplace=False)\n",
       "    (16): Conv2d(16, 75, kernel_size=(3, 3), stride=(1, 1))\n",
       "    (17): BatchNorm2d(75, eps=1e-05, momentum=0.1, affine=True, track_running_stats=True)\n",
       "    (18): MaxPool2d(kernel_size=2, stride=2, padding=0, dilation=1, ceil_mode=False)\n",
       "    (19): LeakyReLU(negative_slope=0.1)\n",
       "    (20): Dropout2d(p=0.1, inplace=False)\n",
       "    (21): AdaptiveAvgPool2d(output_size=1)\n",
       "    (22): Flatten(start_dim=1, end_dim=-1)\n",
       "  )\n",
       ")"
      ]
     },
     "execution_count": 8,
     "metadata": {},
     "output_type": "execute_result"
    }
   ],
   "source": [
    "model"
   ]
  },
  {
   "cell_type": "code",
   "execution_count": 10,
   "id": "5f6c5898",
   "metadata": {},
   "outputs": [
    {
     "data": {
      "text/plain": [
       "torch.Size([3, 75])"
      ]
     },
     "execution_count": 10,
     "metadata": {},
     "output_type": "execute_result"
    }
   ],
   "source": [
    "model(torch.randn(3, 1, 28, 28)).shape"
   ]
  },
  {
   "cell_type": "code",
   "execution_count": null,
   "id": "bc1b6326",
   "metadata": {},
   "outputs": [],
   "source": []
  }
 ],
 "metadata": {
  "kernelspec": {
   "display_name": "Python 3 (ipykernel)",
   "language": "python",
   "name": "python3"
  },
  "language_info": {
   "codemirror_mode": {
    "name": "ipython",
    "version": 3
   },
   "file_extension": ".py",
   "mimetype": "text/x-python",
   "name": "python",
   "nbconvert_exporter": "python",
   "pygments_lexer": "ipython3",
   "version": "3.9.12"
  }
 },
 "nbformat": 4,
 "nbformat_minor": 5
}
